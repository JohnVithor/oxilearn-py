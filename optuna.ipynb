{
 "cells": [
  {
   "cell_type": "code",
   "execution_count": 5,
   "metadata": {},
   "outputs": [
    {
     "ename": "ModuleNotFoundError",
     "evalue": "No module named 'python_src'",
     "output_type": "error",
     "traceback": [
      "\u001b[0;31m---------------------------------------------------------------------------\u001b[0m",
      "\u001b[0;31mModuleNotFoundError\u001b[0m                       Traceback (most recent call last)",
      "Cell \u001b[0;32mIn[5], line 1\u001b[0m\n\u001b[0;32m----> 1\u001b[0m \u001b[38;5;28;01mfrom\u001b[39;00m \u001b[38;5;21;01mpython_src\u001b[39;00m\u001b[38;5;21;01m.\u001b[39;00m\u001b[38;5;21;01mcart_pole\u001b[39;00m \u001b[38;5;28;01mimport\u001b[39;00m CartPoleEnv\n",
      "\u001b[0;31mModuleNotFoundError\u001b[0m: No module named 'python_src'"
     ]
    }
   ],
   "source": [
    "import optuna"
   ]
  },
  {
   "cell_type": "code",
   "execution_count": 3,
   "metadata": {},
   "outputs": [],
   "source": [
    "loaded_study = optuna.load_study(study_name=\"rust_cart_pole\", storage=\"sqlite:///rust_cart_pole.db\")"
   ]
  },
  {
   "cell_type": "code",
   "execution_count": 10,
   "metadata": {},
   "outputs": [
    {
     "data": {
      "text/plain": [
       "{'learning_rate': 0.05386591876203877,\n",
       " 'batch_size': 203,\n",
       " 'buffer_size': 34158,\n",
       " 'min_buffer_size': 8339,\n",
       " 'gamma': 0.9728728997877296,\n",
       " 'target_update_interval': 2,\n",
       " 'train_freq': 173,\n",
       " 'gradient_steps': 193,\n",
       " 'exploration_fraction': 0.16207759323245144,\n",
       " 'exploration_final_eps': 0.05521792709175412,\n",
       " 'optimizer': 'Adam',\n",
       " 'loss_fn': 'Huber',\n",
       " 'max_grad_norm': 8.467432077354045}"
      ]
     },
     "execution_count": 10,
     "metadata": {},
     "output_type": "execute_result"
    }
   ],
   "source": [
    "loaded_study.best_trials[0].params"
   ]
  },
  {
   "cell_type": "code",
   "execution_count": 11,
   "metadata": {},
   "outputs": [],
   "source": [
    "loaded_study = optuna.load_study(study_name=\"rust_lunar_lander\", storage=\"sqlite:///rust_lunar_lander.db\")"
   ]
  },
  {
   "cell_type": "code",
   "execution_count": 13,
   "metadata": {},
   "outputs": [
    {
     "data": {
      "text/plain": [
       "FrozenTrial(number=112, state=TrialState.COMPLETE, values=[147388.0, -62.37114334106445], datetime_start=datetime.datetime(2024, 5, 16, 18, 0, 2, 51972), datetime_complete=datetime.datetime(2024, 5, 16, 20, 42, 17, 800603), params={'learning_rate': 0.0532469253531915, 'batch_size': 247, 'buffer_size': 92394, 'min_buffer_size': 6547, 'target_update_interval': 31, 'train_freq': 190, 'gradient_steps': 185, 'exploration_initial_eps': 0.6335473401617098, 'exploration_fraction': 0.17973943127967468, 'exploration_final_eps': 0.01308103069432095, 'optimizer': 'Adam', 'loss_fn': 'Huber'}, user_attrs={}, system_attrs={'nsga2:generation': 0}, intermediate_values={}, distributions={'learning_rate': FloatDistribution(high=0.1, log=False, low=1e-05, step=None), 'batch_size': IntDistribution(high=256, log=False, low=16, step=1), 'buffer_size': IntDistribution(high=100000, log=False, low=1000, step=1), 'min_buffer_size': IntDistribution(high=10000, log=False, low=1000, step=1), 'target_update_interval': IntDistribution(high=256, log=False, low=1, step=1), 'train_freq': IntDistribution(high=256, log=False, low=1, step=1), 'gradient_steps': IntDistribution(high=256, log=False, low=1, step=1), 'exploration_initial_eps': FloatDistribution(high=1.0, log=False, low=0.5, step=None), 'exploration_fraction': FloatDistribution(high=0.25, log=False, low=0.1, step=None), 'exploration_final_eps': FloatDistribution(high=0.1, log=False, low=0.0, step=None), 'optimizer': CategoricalDistribution(choices=('Adam', 'AdamW', 'RmsProp', 'Sgd')), 'loss_fn': CategoricalDistribution(choices=('MAE', 'MSE', 'RMSE', 'Huber', 'smooth_l1'))}, trial_id=113, value=None)"
      ]
     },
     "execution_count": 13,
     "metadata": {},
     "output_type": "execute_result"
    }
   ],
   "source": [
    "loaded_study.best_trials[0]"
   ]
  }
 ],
 "metadata": {
  "kernelspec": {
   "display_name": "deeprl",
   "language": "python",
   "name": "python3"
  },
  "language_info": {
   "codemirror_mode": {
    "name": "ipython",
    "version": 3
   },
   "file_extension": ".py",
   "mimetype": "text/x-python",
   "name": "python",
   "nbconvert_exporter": "python",
   "pygments_lexer": "ipython3",
   "version": "3.10.13"
  }
 },
 "nbformat": 4,
 "nbformat_minor": 2
}
